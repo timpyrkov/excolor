{
 "cells": [
  {
   "cell_type": "code",
   "execution_count": null,
   "metadata": {},
   "outputs": [],
   "source": [
    "%reload_ext autoreload\n",
    "%autoreload 2\n",
    "\n",
    "import numpy as np\n",
    "import pylab as plt\n",
    "import seaborn as sns\n",
    "import excolor"
   ]
  },
  {
   "cell_type": "markdown",
   "metadata": {},
   "source": [
    "## Extra colormaps"
   ]
  },
  {
   "cell_type": "code",
   "execution_count": null,
   "metadata": {},
   "outputs": [],
   "source": [
    "cmap = plt.get_cmap(\"gruvbox\")\n",
    "cmap"
   ]
  },
  {
   "cell_type": "markdown",
   "metadata": {},
   "source": [
    "## Colorize black-and-white image\n",
    "<br>\n",
    "\n",
    "- Hue and saturation cannot colorize black-and-white image. They only change pixels where levels of red, gree, blue are not the same. \n",
    "<br>\n",
    "\n",
    "- Colorize() function takes a greyscale or b&w image and adds colors to dark and light areas.\n",
    "<br>\n"
   ]
  },
  {
   "cell_type": "code",
   "execution_count": null,
   "metadata": {},
   "outputs": [],
   "source": [
    "url = \"https://github.com/timpyrkov/excolor/blob/master/img/pacman.png?raw=true\"\n",
    "\n",
    "img = excolor.load_image(url)\n",
    "\n",
    "plt.figure(figsize=(2,2), facecolor=\"#00000000\")\n",
    "plt.imshow(img)\n",
    "plt.axis(\"off\")\n",
    "plt.show()\n",
    "\n",
    "img = excolor.colorize(url, \"yellow\", \"green\")\n",
    "\n",
    "plt.figure(figsize=(2,2), facecolor=\"#00000000\")\n",
    "plt.imshow(img)\n",
    "plt.axis(\"off\")\n",
    "plt.show()"
   ]
  },
  {
   "cell_type": "markdown",
   "metadata": {},
   "source": [
    "## Color cycler\n",
    "\n",
    "Set ax color cycler based on cmap or list of colors"
   ]
  },
  {
   "cell_type": "code",
   "execution_count": null,
   "metadata": {},
   "outputs": [],
   "source": [
    "from sklearn.metrics import confusion_matrix\n",
    "\n",
    "# Generate data for heatmap and scatter plot\n",
    "np.random.seed(10)\n",
    "y_true = (np.arange(50) > 25).astype(float)\n",
    "x0 = np.random.normal(0,1,50) + y_true\n",
    "x1 = np.random.normal(0,1,50) + y_true\n",
    "\n",
    "# Predict y_true based on x0\n",
    "y_pred = x0 > 0\n",
    "c = confusion_matrix(y_true, y_pred)\n",
    "\n",
    "# Plot heatmap of confusion matrix using \"viridis\" colormap\n",
    "plt.figure(figsize=(4,2), facecolor=\"white\")\n",
    "plt.subplot(121)\n",
    "plt.title(\"Heatmap\")\n",
    "sns.heatmap(c, annot=True, cmap=\"viridis\", vmin=0)\n",
    "plt.subplot(122)\n",
    "plt.title(\"Scatterplot\")\n",
    "\n",
    "# Set \"viridis\" colors for color cycler to make scatter plot\n",
    "excolor.set_color_cycler(\"viridis\", n=2)\n",
    "for i in range(2):\n",
    "    mask = y_true == i\n",
    "    plt.scatter(x0[mask], x1[mask])\n",
    "plt.tight_layout()\n",
    "plt.show()\n"
   ]
  },
  {
   "cell_type": "markdown",
   "metadata": {},
   "source": [
    "## Log-scaling colormaps\n",
    "\n",
    "Color perlin noise using log-scaled colormap to visualize water caustics"
   ]
  },
  {
   "cell_type": "code",
   "execution_count": null,
   "metadata": {},
   "outputs": [],
   "source": [
    "from pythonperlin import perlin\n",
    "\n",
    "dens = 32\n",
    "shape = (8,8)\n",
    "x = perlin(shape, dens=dens)\n",
    "\n",
    "# Log-scaled colormap\n",
    "cmap = excolor.logscale_cmap(\"GnBu_r\")\n",
    "\n",
    "plt.figure(figsize=(2,2), facecolor=\"#00000000\")\n",
    "plt.imshow( np.abs(x), cmap=cmap)\n",
    "plt.axis(\"off\")\n",
    "plt.show()"
   ]
  }
 ],
 "metadata": {
  "kernelspec": {
   "display_name": "Python 3 (ipykernel)",
   "language": "python",
   "name": "python3"
  },
  "language_info": {
   "codemirror_mode": {
    "name": "ipython",
    "version": 3
   },
   "file_extension": ".py",
   "mimetype": "text/x-python",
   "name": "python",
   "nbconvert_exporter": "python",
   "pygments_lexer": "ipython3",
   "version": "3.9.16"
  }
 },
 "nbformat": 4,
 "nbformat_minor": 1
}
