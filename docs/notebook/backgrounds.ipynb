{
 "cells": [
  {
   "cell_type": "code",
   "execution_count": null,
   "metadata": {},
   "outputs": [],
   "source": [
    "%reload_ext autoreload\n",
    "%autoreload 2\n",
    "\n",
    "import numpy as np\n",
    "import pylab as plt\n",
    "from PIL import Image\n",
    "import matplotlib.colors as mc\n",
    "import excolor"
   ]
  },
  {
   "cell_type": "markdown",
   "metadata": {},
   "source": [
    "## Gradient background\n",
    "\n",
    "Simple gradient background based on one color and its darker and lighter tones."
   ]
  },
  {
   "cell_type": "code",
   "execution_count": null,
   "metadata": {},
   "outputs": [],
   "source": [
    "bgcolor = excolor.get_bgcolor(\"gruvbox\")\n",
    "print(bgcolor)\n",
    "\n",
    "img = excolor.background_gradient(bgcolor)"
   ]
  },
  {
   "cell_type": "markdown",
   "metadata": {},
   "source": [
    "## Distorted concentric lines\n",
    "\n",
    "Draw a series of concentric circles distorted by Perlin noise and colored using \"gruvbox\" palette\n",
    "<br>\n",
    "\n",
    "<img align=\"left\" src=\"https://github.com/timpyrkov/excolor/blob/master/img/concentric.png?raw=true\">\n"
   ]
  },
  {
   "cell_type": "code",
   "execution_count": null,
   "metadata": {},
   "outputs": [],
   "source": [
    "# Get gruvbox colors split into two gradients\n",
    "colors = excolor.get_stepwise_palette(\"gruvbox\", (3,4))\n",
    "excolor.show_colors(colors)"
   ]
  },
  {
   "cell_type": "code",
   "execution_count": null,
   "metadata": {},
   "outputs": [],
   "source": [
    "fig = excolor.background_concentric_lines(colors, bgcolor)"
   ]
  },
  {
   "cell_type": "markdown",
   "metadata": {},
   "source": [
    "## Distorted concentric patches\n",
    "\n",
    "Draw a set of overlapping concentric patches distorted by Perlin noise, colored using \"gruvbox\" palette, and dropping a shadow on each other\n"
   ]
  },
  {
   "cell_type": "code",
   "execution_count": null,
   "metadata": {
    "scrolled": false
   },
   "outputs": [],
   "source": [
    "fig = excolor.background_concentric_patches(colors, bgcolor)"
   ]
  }
 ],
 "metadata": {
  "kernelspec": {
   "display_name": "Python 3 (ipykernel)",
   "language": "python",
   "name": "python3"
  },
  "language_info": {
   "codemirror_mode": {
    "name": "ipython",
    "version": 3
   },
   "file_extension": ".py",
   "mimetype": "text/x-python",
   "name": "python",
   "nbconvert_exporter": "python",
   "pygments_lexer": "ipython3",
   "version": "3.9.17"
  }
 },
 "nbformat": 4,
 "nbformat_minor": 1
}
