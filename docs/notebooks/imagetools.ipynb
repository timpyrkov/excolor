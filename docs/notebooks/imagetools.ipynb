{
 "cells": [
  {
   "cell_type": "code",
   "execution_count": null,
   "metadata": {},
   "outputs": [],
   "source": [
    "%reload_ext autoreload\n",
    "%autoreload 2\n",
    "\n",
    "import numpy as np\n",
    "import pylab as plt\n",
    "import seaborn as sns\n",
    "import excolor"
   ]
  },
  {
   "cell_type": "markdown",
   "metadata": {},
   "source": [
    "## Colorize bw / greyscale image"
   ]
  },
  {
   "cell_type": "code",
   "execution_count": null,
   "metadata": {},
   "outputs": [],
   "source": [
    "url = \"https://github.com/timpyrkov/excolor/blob/master/img/image_bw.png?raw=true\"\n",
    "\n",
    "# Load image from url (image_bw.png from github repository)\n",
    "img = excolor.load_image(url)\n",
    "\n",
    "# Show source grayscale image\n",
    "plt.figure(figsize=(6,6), facecolor=\"#00000000\")\n",
    "plt.imshow(img)\n",
    "plt.axis(\"off\")\n",
    "plt.show()\n",
    "\n",
    "# Colorize and show image\n",
    "green, blue = \"#CCFF66\", \"#2980BA\"\n",
    "img = excolor.colorize_image(url, green, blue)\n",
    "\n",
    "# Show colorized image\n",
    "plt.figure(figsize=(6,6), facecolor=\"#00000000\")\n",
    "plt.imshow(img)\n",
    "plt.axis(\"off\")\n",
    "plt.show()"
   ]
  },
  {
   "cell_type": "markdown",
   "metadata": {},
   "source": [
    "## Convert to greyscale, keep channels"
   ]
  },
  {
   "cell_type": "code",
   "execution_count": null,
   "metadata": {},
   "outputs": [],
   "source": [
    "url = \"https://github.com/timpyrkov/excolor/blob/master/img/image_color.png?raw=true\"\n",
    "\n",
    "# Load image from url (image_color.png from github repository)\n",
    "img = excolor.load_image(url)\n",
    "\n",
    "# Show source image\n",
    "plt.figure(figsize=(6,6), facecolor=\"#00000000\")\n",
    "plt.imshow(img)\n",
    "plt.axis(\"off\")\n",
    "plt.show()\n",
    "\n",
    "# Convert to greyscale\n",
    "greyscaled = excolor.greyscale_image(url)\n",
    "\n",
    "# Show colorized image\n",
    "plt.figure(figsize=(6,6), facecolor=\"#00000000\")\n",
    "plt.imshow(greyscaled)\n",
    "plt.axis(\"off\")\n",
    "plt.show()\n",
    "\n",
    "print(\"Source image array shape:\", np.asarray(img).shape)\n",
    "print(\"Greyscaled image array shape:\", np.asarray(greyscaled).shape)\n"
   ]
  },
  {
   "cell_type": "markdown",
   "metadata": {},
   "source": [
    "## Convert image to low-polygonal"
   ]
  },
  {
   "cell_type": "code",
   "execution_count": null,
   "metadata": {},
   "outputs": [],
   "source": [
    "url = \"https://github.com/timpyrkov/excolor/blob/master/img/image_color.png?raw=true\"\n",
    "\n",
    "# Load image from url (image_color.png from github repository)\n",
    "img = excolor.load_image(url)\n",
    "\n",
    "# Show source image\n",
    "plt.figure(figsize=(6,6), facecolor=\"#00000000\")\n",
    "plt.imshow(img)\n",
    "plt.axis(\"off\")\n",
    "plt.show()\n",
    "\n",
    "# Convert to low-polygonal image\n",
    "img = excolor.triangle_wallpaper(img=img, density=30, distortion=0.4, size=(640,480))\n",
    "\n",
    "# Sjow low-polygonal image\n",
    "plt.figure(figsize=(6,6), facecolor=\"#00000000\")\n",
    "plt.imshow(img)\n",
    "plt.axis(\"off\")\n",
    "plt.show()\n"
   ]
  },
  {
   "cell_type": "code",
   "execution_count": null,
   "metadata": {},
   "outputs": [],
   "source": []
  }
 ],
 "metadata": {
  "kernelspec": {
   "display_name": "Python 3 (ipykernel)",
   "language": "python",
   "name": "python3"
  },
  "language_info": {
   "codemirror_mode": {
    "name": "ipython",
    "version": 3
   },
   "file_extension": ".py",
   "mimetype": "text/x-python",
   "name": "python",
   "nbconvert_exporter": "python",
   "pygments_lexer": "ipython3",
   "version": "3.12.11"
  },
  "varInspector": {
   "cols": {
    "lenName": 16,
    "lenType": 16,
    "lenVar": 40
   },
   "kernels_config": {
    "python": {
     "delete_cmd_postfix": "",
     "delete_cmd_prefix": "del ",
     "library": "var_list.py",
     "varRefreshCmd": "print(var_dic_list())"
    },
    "r": {
     "delete_cmd_postfix": ") ",
     "delete_cmd_prefix": "rm(",
     "library": "var_list.r",
     "varRefreshCmd": "cat(var_dic_list()) "
    }
   },
   "types_to_exclude": [
    "module",
    "function",
    "builtin_function_or_method",
    "instance",
    "_Feature"
   ],
   "window_display": false
  }
 },
 "nbformat": 4,
 "nbformat_minor": 1
}
